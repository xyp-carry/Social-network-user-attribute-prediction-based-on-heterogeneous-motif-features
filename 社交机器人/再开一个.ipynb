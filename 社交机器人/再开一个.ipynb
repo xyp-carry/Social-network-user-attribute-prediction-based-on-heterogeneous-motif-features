{
 "cells": [
  {
   "cell_type": "code",
   "execution_count": 1,
   "metadata": {
    "collapsed": true,
    "pycharm": {
     "name": "#%%\n"
    }
   },
   "outputs": [
    {
     "name": "stdout",
     "output_type": "stream",
     "text": [
      "数据读取完成\n"
     ]
    },
    {
     "data": {
      "text/plain": "10000000"
     },
     "execution_count": 1,
     "metadata": {},
     "output_type": "execute_result"
    }
   ],
   "source": [
    "import json\n",
    "import pandas as pd\n",
    "import ijson\n",
    "import re\n",
    "import time\n",
    "data = pd.read_csv('split.csv')\n",
    "\n",
    "user_data = data[data.split != 'val']\n",
    "\n",
    "user_list = []\n",
    "for i in user_data['id']:\n",
    "    user_list.append(i[1:])\n",
    "\n",
    "dict_user_tweet = {}\n",
    "a = 0\n",
    "b = 0\n",
    "with open('tweet_1-010.json') as f:\n",
    "    obj = ijson.items(f, 'item')\n",
    "    cnt = 0\n",
    "    while True:\n",
    "        try:\n",
    "            obj.__next__()\n",
    "            a += 1\n",
    "        except StopIteration as e:\n",
    "            print(\"数据读取完成\")\n",
    "            break\n",
    "        # except:\n",
    "        #     b += 1\n",
    "        #     print(b)\n",
    "        #     continue\n",
    "a"
   ]
  },
  {
   "cell_type": "code",
   "execution_count": 1,
   "outputs": [],
   "source": [
    "import json\n",
    "import pandas as pd\n",
    "import ijson\n",
    "import re"
   ],
   "metadata": {
    "collapsed": false,
    "pycharm": {
     "name": "#%%\n"
    }
   }
  },
  {
   "cell_type": "code",
   "execution_count": 2,
   "outputs": [],
   "source": [
    "f = open('user.json','r',encoding='UTF-8')\n",
    "content = f.read()\n",
    "content"
   ],
   "metadata": {
    "collapsed": false,
    "pycharm": {
     "name": "#%%\n"
    }
   }
  },
  {
   "cell_type": "code",
   "execution_count": 4,
   "outputs": [],
   "source": [
    "user_list = []"
   ],
   "metadata": {
    "collapsed": false,
    "pycharm": {
     "name": "#%%\n"
    }
   }
  },
  {
   "cell_type": "code",
   "execution_count": 5,
   "outputs": [],
   "source": [
    "data = pd.read_csv('split.csv')\n",
    "user_data = data[data.split != 'val']\n",
    "for i in user_data['id']:\n",
    "    user_list.append(i[1:])"
   ],
   "metadata": {
    "collapsed": false,
    "pycharm": {
     "name": "#%%\n"
    }
   }
  },
  {
   "cell_type": "code",
   "execution_count": null,
   "outputs": [],
   "source": [
    "with open('tweet_1-010.json') as f:\n",
    "        obj = ijson.items(f, 'item')\n",
    "        cnt = 0\n",
    "        while True:\n",
    "        # print(obj.__next__())\n",
    "            try:\n",
    "                data = obj.__next__()\n",
    "                if data['author_id'] in user_list:\n",
    "                    if data['author_id'] in dict_user_tweet.keys:\n",
    "                        if 'RT @' in data['text']:\n",
    "                            dict_user_tweet[data['author_id']]['RT'] += 1\n",
    "                        if r'https:' in data['text']:\n",
    "                            dict_user_tweet[data['author_id']]['URL'] += 1\n",
    "                        if len(re.findall ('http', data['text'])) > 1:\n",
    "                            dict_user_tweet[data['author_id']]['UU'] += 1\n",
    "                        if '@' in data['text']:\n",
    "                            dict_user_tweet[data['author_id']]['@'] += 1\n",
    "                            if len(re.findall ('@', data['text'])) > 1:\n",
    "                                dict_user_tweet[data['author_id']]['@@'] += 1\n",
    "                        if len(data['entities']['hashtags']) > 0:\n",
    "                            dict_user_tweet[data['author_id']]['hashtag'] += 1\n",
    "                            a = 0\n",
    "                            for i in data['entities']['hashtags']:\n",
    "                                a += len(re.findall(i ,data['text']))\n",
    "                                dict_user_tweet[data['author_id']]['S_hashtag'] += a/len(data['entities']['hashtags'])\n",
    "                    else:\n",
    "                        dict_user_tweet[data['author_id']] = {}\n",
    "                        dict_user_tweet[data['author_id']]['RT'] = 0\n",
    "                        dict_user_tweet[data['author_id']]['URL'] = 0\n",
    "                        dict_user_tweet[data['author_id']]['UU'] = 0\n",
    "                        dict_user_tweet[data['author_id']]['@'] = 0\n",
    "                        dict_user_tweet[data['author_id']]['@@'] = 0\n",
    "                        dict_user_tweet[data['author_id']]['hashtag'] = 0\n",
    "                        dict_user_tweet[data['author_id']]['S_hashtag'] = 0\n",
    "                        if 'RT @' in data['text']:\n",
    "                            dict_user_tweet[data['author_id']]['RT'] += 1\n",
    "                        if 'https://' in data['text']:\n",
    "                            dict_user_tweet[data['author_id']]['URL'] += 1\n",
    "                        if len(re.findall ('http', data['text'])) > 1:\n",
    "                            dict_user_tweet[data['author_id']]['UU'] += 1\n",
    "                        if '@' in data['text']:\n",
    "                            dict_user_tweet[data['author_id']]['@'] += 1\n",
    "                            if len(re.findall ('@', data['text'])) > 1:\n",
    "                                dict_user_tweet[data['author_id']]['@@'] += 1\n",
    "                        if len(data['entities']['hashtags']) > 0:\n",
    "                            dict_user_tweet[data['author_id']]['hashtag'] += 1\n",
    "                            a = 0\n",
    "                            for i in data['entities']['hashtags']:\n",
    "                                a += len(re.findall(i ,data['text']))\n",
    "                                dict_user_tweet[data['author_id']]['S_hashtag'] += a/len(data['entities']['hashtags'])\n",
    "            except StopIteration as e:\n",
    "                print(\"数据读取完成\")\n",
    "                break"
   ],
   "metadata": {
    "collapsed": false,
    "pycharm": {
     "name": "#%%\n",
     "is_executing": true
    }
   }
  }
 ],
 "metadata": {
  "kernelspec": {
   "display_name": "Python 3",
   "language": "python",
   "name": "python3"
  },
  "language_info": {
   "codemirror_mode": {
    "name": "ipython",
    "version": 2
   },
   "file_extension": ".py",
   "mimetype": "text/x-python",
   "name": "python",
   "nbconvert_exporter": "python",
   "pygments_lexer": "ipython2",
   "version": "2.7.6"
  }
 },
 "nbformat": 4,
 "nbformat_minor": 0
}