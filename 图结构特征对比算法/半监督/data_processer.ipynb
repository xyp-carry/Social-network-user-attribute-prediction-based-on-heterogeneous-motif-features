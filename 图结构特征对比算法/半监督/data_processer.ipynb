{
 "cells": [
  {
   "cell_type": "code",
   "execution_count": null,
   "metadata": {
    "collapsed": true,
    "pycharm": {
     "name": "#%%\n",
     "is_executing": true
    }
   },
   "outputs": [],
   "source": [
    "import pandas as pd\n",
    "import networkx as nx\n",
    "import pickle\n",
    "import random"
   ]
  },
  {
   "cell_type": "code",
   "execution_count": 41,
   "outputs": [
    {
     "data": {
      "text/plain": "8277"
     },
     "execution_count": 41,
     "metadata": {},
     "output_type": "execute_result"
    }
   ],
   "source": [
    "with open('user_dict.pkl', 'rb') as f:\n",
    "    a = pickle.load(f)\n",
    "\n",
    "a[50471224]\n",
    "# train 50471224\n",
    "# val 412642667\n",
    "# test 3385331674"
   ],
   "metadata": {
    "collapsed": false,
    "pycharm": {
     "name": "#%%\n"
    }
   }
  },
  {
   "cell_type": "code",
   "execution_count": 72,
   "outputs": [
    {
     "data": {
      "text/plain": "             id info\n-1            0    0\n 0            1    1\n 1            2    0\n 2            3    0\n 3            4    1\n...         ...  ...\n 249995  249995    0\n 249996  249996    1\n 249997  249997    1\n 249998  249998    0\n 249999  249999    1\n\n[250001 rows x 2 columns]",
      "text/html": "<div>\n<style scoped>\n    .dataframe tbody tr th:only-of-type {\n        vertical-align: middle;\n    }\n\n    .dataframe tbody tr th {\n        vertical-align: top;\n    }\n\n    .dataframe thead th {\n        text-align: right;\n    }\n</style>\n<table border=\"1\" class=\"dataframe\">\n  <thead>\n    <tr style=\"text-align: right;\">\n      <th></th>\n      <th>id</th>\n      <th>info</th>\n    </tr>\n  </thead>\n  <tbody>\n    <tr>\n      <th>-1</th>\n      <td>0</td>\n      <td>0</td>\n    </tr>\n    <tr>\n      <th>0</th>\n      <td>1</td>\n      <td>1</td>\n    </tr>\n    <tr>\n      <th>1</th>\n      <td>2</td>\n      <td>0</td>\n    </tr>\n    <tr>\n      <th>2</th>\n      <td>3</td>\n      <td>0</td>\n    </tr>\n    <tr>\n      <th>3</th>\n      <td>4</td>\n      <td>1</td>\n    </tr>\n    <tr>\n      <th>...</th>\n      <td>...</td>\n      <td>...</td>\n    </tr>\n    <tr>\n      <th>249995</th>\n      <td>249995</td>\n      <td>0</td>\n    </tr>\n    <tr>\n      <th>249996</th>\n      <td>249996</td>\n      <td>1</td>\n    </tr>\n    <tr>\n      <th>249997</th>\n      <td>249997</td>\n      <td>1</td>\n    </tr>\n    <tr>\n      <th>249998</th>\n      <td>249998</td>\n      <td>0</td>\n    </tr>\n    <tr>\n      <th>249999</th>\n      <td>249999</td>\n      <td>1</td>\n    </tr>\n  </tbody>\n</table>\n<p>250001 rows × 2 columns</p>\n</div>"
     },
     "execution_count": 72,
     "metadata": {},
     "output_type": "execute_result"
    }
   ],
   "source": [
    "with open('user_label_pred.pkl', 'rb') as f:\n",
    "    b = pickle.load(f)\n",
    "\n",
    "df = pd.DataFrame.from_dict(b, orient='index',columns=['info'])\n",
    "df = df.reset_index().rename(columns = {'index':'id'})\n",
    "df.index -= 1\n",
    "df\n",
    "df1 = pd.DataFrame(columns=['id','info'])\n",
    "\n",
    "df1['id'] = [c1 for c1 in range(205741, 250000)]\n",
    "df1['info'] = [random.randint(0,1) for i in range(205741, 250000)]\n",
    "df1.index += 205741\n",
    "df = pd.concat([df,df1])\n",
    "df"
   ],
   "metadata": {
    "collapsed": false,
    "pycharm": {
     "name": "#%%\n"
    }
   }
  },
  {
   "cell_type": "code",
   "execution_count": 55,
   "outputs": [
    {
     "data": {
      "text/plain": "205742"
     },
     "execution_count": 55,
     "metadata": {},
     "output_type": "execute_result"
    }
   ],
   "source": [
    "len(b)"
   ],
   "metadata": {
    "collapsed": false,
    "pycharm": {
     "name": "#%%\n"
    }
   }
  },
  {
   "cell_type": "code",
   "execution_count": 52,
   "outputs": [
    {
     "data": {
      "text/plain": "        src label\n0      8278     0\n1      8279     1\n2      8280     0\n3      8281     1\n4      8282     0\n...     ...   ...\n2360  10638     1\n2361  10639     0\n2362  10640     1\n2363  10641     1\n2364  10642     1\n\n[2365 rows x 2 columns]",
      "text/html": "<div>\n<style scoped>\n    .dataframe tbody tr th:only-of-type {\n        vertical-align: middle;\n    }\n\n    .dataframe tbody tr th {\n        vertical-align: top;\n    }\n\n    .dataframe thead th {\n        text-align: right;\n    }\n</style>\n<table border=\"1\" class=\"dataframe\">\n  <thead>\n    <tr style=\"text-align: right;\">\n      <th></th>\n      <th>src</th>\n      <th>label</th>\n    </tr>\n  </thead>\n  <tbody>\n    <tr>\n      <th>0</th>\n      <td>8278</td>\n      <td>0</td>\n    </tr>\n    <tr>\n      <th>1</th>\n      <td>8279</td>\n      <td>1</td>\n    </tr>\n    <tr>\n      <th>2</th>\n      <td>8280</td>\n      <td>0</td>\n    </tr>\n    <tr>\n      <th>3</th>\n      <td>8281</td>\n      <td>1</td>\n    </tr>\n    <tr>\n      <th>4</th>\n      <td>8282</td>\n      <td>0</td>\n    </tr>\n    <tr>\n      <th>...</th>\n      <td>...</td>\n      <td>...</td>\n    </tr>\n    <tr>\n      <th>2360</th>\n      <td>10638</td>\n      <td>1</td>\n    </tr>\n    <tr>\n      <th>2361</th>\n      <td>10639</td>\n      <td>0</td>\n    </tr>\n    <tr>\n      <th>2362</th>\n      <td>10640</td>\n      <td>1</td>\n    </tr>\n    <tr>\n      <th>2363</th>\n      <td>10641</td>\n      <td>1</td>\n    </tr>\n    <tr>\n      <th>2364</th>\n      <td>10642</td>\n      <td>1</td>\n    </tr>\n  </tbody>\n</table>\n<p>2365 rows × 2 columns</p>\n</div>"
     },
     "execution_count": 52,
     "metadata": {},
     "output_type": "execute_result"
    }
   ],
   "source": [
    "df_train = pd.DataFrame()\n",
    "\n",
    "df_train['src'] = [c1 for c1 in range(8278, 10643)]\n",
    "df_train['label'] = list(df['info'].loc[8277:10641])\n",
    "df_train"
   ],
   "metadata": {
    "collapsed": false,
    "pycharm": {
     "name": "#%%\n"
    }
   }
  },
  {
   "cell_type": "code",
   "execution_count": 37,
   "outputs": [
    {
     "data": {
      "text/plain": "             id info\n-1            0    0\n 0            1    1\n 1            2    0\n 2            3    0\n 3            4    1\n...         ...  ...\n 205736  228144    1\n 205737  225453    1\n 205738  224352    1\n 205739  225658    1\n 205740  227610    1\n\n[205742 rows x 2 columns]",
      "text/html": "<div>\n<style scoped>\n    .dataframe tbody tr th:only-of-type {\n        vertical-align: middle;\n    }\n\n    .dataframe tbody tr th {\n        vertical-align: top;\n    }\n\n    .dataframe thead th {\n        text-align: right;\n    }\n</style>\n<table border=\"1\" class=\"dataframe\">\n  <thead>\n    <tr style=\"text-align: right;\">\n      <th></th>\n      <th>id</th>\n      <th>info</th>\n    </tr>\n  </thead>\n  <tbody>\n    <tr>\n      <th>-1</th>\n      <td>0</td>\n      <td>0</td>\n    </tr>\n    <tr>\n      <th>0</th>\n      <td>1</td>\n      <td>1</td>\n    </tr>\n    <tr>\n      <th>1</th>\n      <td>2</td>\n      <td>0</td>\n    </tr>\n    <tr>\n      <th>2</th>\n      <td>3</td>\n      <td>0</td>\n    </tr>\n    <tr>\n      <th>3</th>\n      <td>4</td>\n      <td>1</td>\n    </tr>\n    <tr>\n      <th>...</th>\n      <td>...</td>\n      <td>...</td>\n    </tr>\n    <tr>\n      <th>205736</th>\n      <td>228144</td>\n      <td>1</td>\n    </tr>\n    <tr>\n      <th>205737</th>\n      <td>225453</td>\n      <td>1</td>\n    </tr>\n    <tr>\n      <th>205738</th>\n      <td>224352</td>\n      <td>1</td>\n    </tr>\n    <tr>\n      <th>205739</th>\n      <td>225658</td>\n      <td>1</td>\n    </tr>\n    <tr>\n      <th>205740</th>\n      <td>227610</td>\n      <td>1</td>\n    </tr>\n  </tbody>\n</table>\n<p>205742 rows × 2 columns</p>\n</div>"
     },
     "execution_count": 37,
     "metadata": {},
     "output_type": "execute_result"
    }
   ],
   "source": [
    "df"
   ],
   "metadata": {
    "collapsed": false,
    "pycharm": {
     "name": "#%%\n"
    }
   }
  },
  {
   "cell_type": "code",
   "execution_count": 29,
   "outputs": [
    {
     "data": {
      "text/plain": "[8278,\n 8279,\n 8280,\n 8281,\n 8282,\n 8283,\n 8284,\n 8285,\n 8286,\n 8287,\n 8288,\n 8289,\n 8290,\n 8291,\n 8292,\n 8293,\n 8294,\n 8295,\n 8296,\n 8297,\n 8298,\n 8299,\n 8300,\n 8301,\n 8302,\n 8303,\n 8304,\n 8305,\n 8306,\n 8307,\n 8308,\n 8309,\n 8310,\n 8311,\n 8312,\n 8313,\n 8314,\n 8315,\n 8316,\n 8317,\n 8318,\n 8319,\n 8320,\n 8321,\n 8322,\n 8323,\n 8324,\n 8325,\n 8326,\n 8327,\n 8328,\n 8329,\n 8330,\n 8331,\n 8332,\n 8333,\n 8334,\n 8335,\n 8336,\n 8337,\n 8338,\n 8339,\n 8340,\n 8341,\n 8342,\n 8343,\n 8344,\n 8345,\n 8346,\n 8347,\n 8348,\n 8349,\n 8350,\n 8351,\n 8352,\n 8353,\n 8354,\n 8355,\n 8356,\n 8357,\n 8358,\n 8359,\n 8360,\n 8361,\n 8362,\n 8363,\n 8364,\n 8365,\n 8366,\n 8367,\n 8368,\n 8369,\n 8370,\n 8371,\n 8372,\n 8373,\n 8374,\n 8375,\n 8376,\n 8377,\n 8378,\n 8379,\n 8380,\n 8381,\n 8382,\n 8383,\n 8384,\n 8385,\n 8386,\n 8387,\n 8388,\n 8389,\n 8390,\n 8391,\n 8392,\n 8393,\n 8394,\n 8395,\n 8396,\n 8397,\n 8398,\n 8399,\n 8400,\n 8401,\n 8402,\n 8403,\n 8404,\n 8405,\n 8406,\n 8407,\n 8408,\n 8409,\n 8410,\n 8411,\n 8412,\n 8413,\n 8414,\n 8415,\n 8416,\n 8417,\n 8418,\n 8419,\n 8420,\n 8421,\n 8422,\n 8423,\n 8424,\n 8425,\n 8426,\n 8427,\n 8428,\n 8429,\n 8430,\n 8431,\n 8432,\n 8433,\n 8434,\n 8435,\n 8436,\n 8437,\n 8438,\n 8439,\n 8440,\n 8441,\n 8442,\n 8443,\n 8444,\n 8445,\n 8446,\n 8447,\n 8448,\n 8449,\n 8450,\n 8451,\n 8452,\n 8453,\n 8454,\n 8455,\n 8456,\n 8457,\n 8458,\n 8459,\n 8460,\n 8461,\n 8462,\n 8463,\n 8464,\n 8465,\n 8466,\n 8467,\n 8468,\n 8469,\n 8470,\n 8471,\n 8472,\n 8473,\n 8474,\n 8475,\n 8476,\n 8477,\n 8478,\n 8479,\n 8480,\n 8481,\n 8482,\n 8483,\n 8484,\n 8485,\n 8486,\n 8487,\n 8488,\n 8489,\n 8490,\n 8491,\n 8492,\n 8493,\n 8494,\n 8495,\n 8496,\n 8497,\n 8498,\n 8499,\n 8500,\n 8501,\n 8502,\n 8503,\n 8504,\n 8505,\n 8506,\n 8507,\n 8508,\n 8509,\n 8510,\n 8511,\n 8512,\n 8513,\n 8514,\n 8515,\n 8516,\n 8517,\n 8518,\n 8519,\n 8520,\n 8521,\n 8522,\n 8523,\n 8524,\n 8525,\n 8526,\n 8527,\n 8528,\n 8529,\n 8530,\n 8531,\n 8532,\n 8533,\n 8534,\n 8535,\n 8536,\n 8537,\n 8538,\n 8539,\n 8540,\n 8541,\n 8542,\n 8543,\n 8544,\n 8545,\n 8546,\n 8547,\n 8548,\n 8549,\n 8550,\n 8551,\n 8552,\n 8553,\n 8554,\n 8555,\n 8556,\n 8557,\n 8558,\n 8559,\n 8560,\n 8561,\n 8562,\n 8563,\n 8564,\n 8565,\n 8566,\n 8567,\n 8568,\n 8569,\n 8570,\n 8571,\n 8572,\n 8573,\n 8574,\n 8575,\n 8576,\n 8577,\n 8578,\n 8579,\n 8580,\n 8581,\n 8582,\n 8583,\n 8584,\n 8585,\n 8586,\n 8587,\n 8588,\n 8589,\n 8590,\n 8591,\n 8592,\n 8593,\n 8594,\n 8595,\n 8596,\n 8597,\n 8598,\n 8599,\n 8600,\n 8601,\n 8602,\n 8603,\n 8604,\n 8605,\n 8606,\n 8607,\n 8608,\n 8609,\n 8610,\n 8611,\n 8612,\n 8613,\n 8614,\n 8615,\n 8616,\n 8617,\n 8618,\n 8619,\n 8620,\n 8621,\n 8622,\n 8623,\n 8624,\n 8625,\n 8626,\n 8627,\n 8628,\n 8629,\n 8630,\n 8631,\n 8632,\n 8633,\n 8634,\n 8635,\n 8636,\n 8637,\n 8638,\n 8639,\n 8640,\n 8641,\n 8642,\n 8643,\n 8644,\n 8645,\n 8646,\n 8647,\n 8648,\n 8649,\n 8650,\n 8651,\n 8652,\n 8653,\n 8654,\n 8655,\n 8656,\n 8657,\n 8658,\n 8659,\n 8660,\n 8661,\n 8662,\n 8663,\n 8664,\n 8665,\n 8666,\n 8667,\n 8668,\n 8669,\n 8670,\n 8671,\n 8672,\n 8673,\n 8674,\n 8675,\n 8676,\n 8677,\n 8678,\n 8679,\n 8680,\n 8681,\n 8682,\n 8683,\n 8684,\n 8685,\n 8686,\n 8687,\n 8688,\n 8689,\n 8690,\n 8691,\n 8692,\n 8693,\n 8694,\n 8695,\n 8696,\n 8697,\n 8698,\n 8699,\n 8700,\n 8701,\n 8702,\n 8703,\n 8704,\n 8705,\n 8706,\n 8707,\n 8708,\n 8709,\n 8710,\n 8711,\n 8712,\n 8713,\n 8714,\n 8715,\n 8716,\n 8717,\n 8718,\n 8719,\n 8720,\n 8721,\n 8722,\n 8723,\n 8724,\n 8725,\n 8726,\n 8727,\n 8728,\n 8729,\n 8730,\n 8731,\n 8732,\n 8733,\n 8734,\n 8735,\n 8736,\n 8737,\n 8738,\n 8739,\n 8740,\n 8741,\n 8742,\n 8743,\n 8744,\n 8745,\n 8746,\n 8747,\n 8748,\n 8749,\n 8750,\n 8751,\n 8752,\n 8753,\n 8754,\n 8755,\n 8756,\n 8757,\n 8758,\n 8759,\n 8760,\n 8761,\n 8762,\n 8763,\n 8764,\n 8765,\n 8766,\n 8767,\n 8768,\n 8769,\n 8770,\n 8771,\n 8772,\n 8773,\n 8774,\n 8775,\n 8776,\n 8777,\n 8778,\n 8779,\n 8780,\n 8781,\n 8782,\n 8783,\n 8784,\n 8785,\n 8786,\n 8787,\n 8788,\n 8789,\n 8790,\n 8791,\n 8792,\n 8793,\n 8794,\n 8795,\n 8796,\n 8797,\n 8798,\n 8799,\n 8800,\n 8801,\n 8802,\n 8803,\n 8804,\n 8805,\n 8806,\n 8807,\n 8808,\n 8809,\n 8810,\n 8811,\n 8812,\n 8813,\n 8814,\n 8815,\n 8816,\n 8817,\n 8818,\n 8819,\n 8820,\n 8821,\n 8822,\n 8823,\n 8824,\n 8825,\n 8826,\n 8827,\n 8828,\n 8829,\n 8830,\n 8831,\n 8832,\n 8833,\n 8834,\n 8835,\n 8836,\n 8837,\n 8838,\n 8839,\n 8840,\n 8841,\n 8842,\n 8843,\n 8844,\n 8845,\n 8846,\n 8847,\n 8848,\n 8849,\n 8850,\n 8851,\n 8852,\n 8853,\n 8854,\n 8855,\n 8856,\n 8857,\n 8858,\n 8859,\n 8860,\n 8861,\n 8862,\n 8863,\n 8864,\n 8865,\n 8866,\n 8867,\n 8868,\n 8869,\n 8870,\n 8871,\n 8872,\n 8873,\n 8874,\n 8875,\n 8876,\n 8877,\n 8878,\n 8879,\n 8880,\n 8881,\n 8882,\n 8883,\n 8884,\n 8885,\n 8886,\n 8887,\n 8888,\n 8889,\n 8890,\n 8891,\n 8892,\n 8893,\n 8894,\n 8895,\n 8896,\n 8897,\n 8898,\n 8899,\n 8900,\n 8901,\n 8902,\n 8903,\n 8904,\n 8905,\n 8906,\n 8907,\n 8908,\n 8909,\n 8910,\n 8911,\n 8912,\n 8913,\n 8914,\n 8915,\n 8916,\n 8917,\n 8918,\n 8919,\n 8920,\n 8921,\n 8922,\n 8923,\n 8924,\n 8925,\n 8926,\n 8927,\n 8928,\n 8929,\n 8930,\n 8931,\n 8932,\n 8933,\n 8934,\n 8935,\n 8936,\n 8937,\n 8938,\n 8939,\n 8940,\n 8941,\n 8942,\n 8943,\n 8944,\n 8945,\n 8946,\n 8947,\n 8948,\n 8949,\n 8950,\n 8951,\n 8952,\n 8953,\n 8954,\n 8955,\n 8956,\n 8957,\n 8958,\n 8959,\n 8960,\n 8961,\n 8962,\n 8963,\n 8964,\n 8965,\n 8966,\n 8967,\n 8968,\n 8969,\n 8970,\n 8971,\n 8972,\n 8973,\n 8974,\n 8975,\n 8976,\n 8977,\n 8978,\n 8979,\n 8980,\n 8981,\n 8982,\n 8983,\n 8984,\n 8985,\n 8986,\n 8987,\n 8988,\n 8989,\n 8990,\n 8991,\n 8992,\n 8993,\n 8994,\n 8995,\n 8996,\n 8997,\n 8998,\n 8999,\n 9000,\n 9001,\n 9002,\n 9003,\n 9004,\n 9005,\n 9006,\n 9007,\n 9008,\n 9009,\n 9010,\n 9011,\n 9012,\n 9013,\n 9014,\n 9015,\n 9016,\n 9017,\n 9018,\n 9019,\n 9020,\n 9021,\n 9022,\n 9023,\n 9024,\n 9025,\n 9026,\n 9027,\n 9028,\n 9029,\n 9030,\n 9031,\n 9032,\n 9033,\n 9034,\n 9035,\n 9036,\n 9037,\n 9038,\n 9039,\n 9040,\n 9041,\n 9042,\n 9043,\n 9044,\n 9045,\n 9046,\n 9047,\n 9048,\n 9049,\n 9050,\n 9051,\n 9052,\n 9053,\n 9054,\n 9055,\n 9056,\n 9057,\n 9058,\n 9059,\n 9060,\n 9061,\n 9062,\n 9063,\n 9064,\n 9065,\n 9066,\n 9067,\n 9068,\n 9069,\n 9070,\n 9071,\n 9072,\n 9073,\n 9074,\n 9075,\n 9076,\n 9077,\n 9078,\n 9079,\n 9080,\n 9081,\n 9082,\n 9083,\n 9084,\n 9085,\n 9086,\n 9087,\n 9088,\n 9089,\n 9090,\n 9091,\n 9092,\n 9093,\n 9094,\n 9095,\n 9096,\n 9097,\n 9098,\n 9099,\n 9100,\n 9101,\n 9102,\n 9103,\n 9104,\n 9105,\n 9106,\n 9107,\n 9108,\n 9109,\n 9110,\n 9111,\n 9112,\n 9113,\n 9114,\n 9115,\n 9116,\n 9117,\n 9118,\n 9119,\n 9120,\n 9121,\n 9122,\n 9123,\n 9124,\n 9125,\n 9126,\n 9127,\n 9128,\n 9129,\n 9130,\n 9131,\n 9132,\n 9133,\n 9134,\n 9135,\n 9136,\n 9137,\n 9138,\n 9139,\n 9140,\n 9141,\n 9142,\n 9143,\n 9144,\n 9145,\n 9146,\n 9147,\n 9148,\n 9149,\n 9150,\n 9151,\n 9152,\n 9153,\n 9154,\n 9155,\n 9156,\n 9157,\n 9158,\n 9159,\n 9160,\n 9161,\n 9162,\n 9163,\n 9164,\n 9165,\n 9166,\n 9167,\n 9168,\n 9169,\n 9170,\n 9171,\n 9172,\n 9173,\n 9174,\n 9175,\n 9176,\n 9177,\n 9178,\n 9179,\n 9180,\n 9181,\n 9182,\n 9183,\n 9184,\n 9185,\n 9186,\n 9187,\n 9188,\n 9189,\n 9190,\n 9191,\n 9192,\n 9193,\n 9194,\n 9195,\n 9196,\n 9197,\n 9198,\n 9199,\n 9200,\n 9201,\n 9202,\n 9203,\n 9204,\n 9205,\n 9206,\n 9207,\n 9208,\n 9209,\n 9210,\n 9211,\n 9212,\n 9213,\n 9214,\n 9215,\n 9216,\n 9217,\n 9218,\n 9219,\n 9220,\n 9221,\n 9222,\n 9223,\n 9224,\n 9225,\n 9226,\n 9227,\n 9228,\n 9229,\n 9230,\n 9231,\n 9232,\n 9233,\n 9234,\n 9235,\n 9236,\n 9237,\n 9238,\n 9239,\n 9240,\n 9241,\n 9242,\n 9243,\n 9244,\n 9245,\n 9246,\n 9247,\n 9248,\n 9249,\n 9250,\n 9251,\n 9252,\n 9253,\n 9254,\n 9255,\n 9256,\n 9257,\n 9258,\n 9259,\n 9260,\n 9261,\n 9262,\n 9263,\n 9264,\n 9265,\n 9266,\n 9267,\n 9268,\n 9269,\n 9270,\n 9271,\n 9272,\n 9273,\n 9274,\n 9275,\n 9276,\n 9277,\n ...]"
     },
     "execution_count": 29,
     "metadata": {},
     "output_type": "execute_result"
    }
   ],
   "source": [
    "[c for c in range(8278,10643)]"
   ],
   "metadata": {
    "collapsed": false,
    "pycharm": {
     "name": "#%%\n"
    }
   }
  },
  {
   "cell_type": "code",
   "execution_count": 10,
   "outputs": [
    {
     "data": {
      "text/plain": "205730"
     },
     "execution_count": 10,
     "metadata": {},
     "output_type": "execute_result"
    }
   ],
   "source": [
    "g = nx.read_edgelist('relation.txt', nodetype=int,create_using=nx.DiGraph())  # 读取网络信息\n",
    "type(g)\n",
    "len(g.nodes())"
   ],
   "metadata": {
    "collapsed": false,
    "pycharm": {
     "name": "#%%\n"
    }
   }
  }
 ],
 "metadata": {
  "kernelspec": {
   "display_name": "Python 3",
   "language": "python",
   "name": "python3"
  },
  "language_info": {
   "codemirror_mode": {
    "name": "ipython",
    "version": 2
   },
   "file_extension": ".py",
   "mimetype": "text/x-python",
   "name": "python",
   "nbconvert_exporter": "python",
   "pygments_lexer": "ipython2",
   "version": "2.7.6"
  }
 },
 "nbformat": 4,
 "nbformat_minor": 0
}